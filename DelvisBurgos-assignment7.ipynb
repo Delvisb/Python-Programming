{
 "cells": [
  {
   "cell_type": "markdown",
   "metadata": {},
   "source": [
    "### Delvis Burgos \n",
    "### CSIT 505-01 \n",
    "### M3 Assignment 7"
   ]
  },
  {
   "cell_type": "markdown",
   "metadata": {},
   "source": [
    "#### Question 3: Create a list of 100 integers whose value and index are the same, for example, L[5]=5."
   ]
  },
  {
   "cell_type": "code",
   "execution_count": 3,
   "metadata": {},
   "outputs": [
    {
     "name": "stdout",
     "output_type": "stream",
     "text": [
      "[0, 1, 2, 3, 4, 5, 6, 7, 8, 9, 10, 11, 12, 13, 14, 15, 16, 17, 18, 19, 20, 21, 22, 23, 24, 25, 26, 27, 28, 29, 30, 31, 32, 33, 34, 35, 36, 37, 38, 39, 40, 41, 42, 43, 44, 45, 46, 47, 48, 49, 50, 51, 52, 53, 54, 55, 56, 57, 58, 59, 60, 61, 62, 63, 64, 65, 66, 67, 68, 69, 70, 71, 72, 73, 74, 75, 76, 77, 78, 79, 80, 81, 82, 83, 84, 85, 86, 87, 88, 89, 90, 91, 92, 93, 94, 95, 96, 97, 98, 99]\n"
     ]
    }
   ],
   "source": [
    "list = []\n",
    "for i in range(100):\n",
    "    list.insert(i, i)\n",
    "print(list)\n"
   ]
  },
  {
   "cell_type": "markdown",
   "metadata": {},
   "source": [
    "#### Question 13: Transform the string 'abcde' into the list [1,'b','hello',15,'e',2]. (Note that there are many possible diferent answers.)"
   ]
  },
  {
   "cell_type": "code",
   "execution_count": 66,
   "metadata": {},
   "outputs": [
    {
     "name": "stdout",
     "output_type": "stream",
     "text": [
      "[1, 'b', 'hello', 15, 'e', 2]\n"
     ]
    }
   ],
   "source": [
    "string = 'abcde'\n",
    "list = []\n",
    "for i in string:\n",
    "    list.append(i)\n",
    "list[0] = 1\n",
    "list[2] = 'hello'\n",
    "list[3] = 15\n",
    "list.append(2)\n",
    "print(list)"
   ]
  },
  {
   "cell_type": "markdown",
   "metadata": {},
   "source": [
    "#### Question 25: Make a list of the unique letters used in a sentence. That is, if the letter “x” is used twice in a sentence, it should only appear once in your list. No punctuation should appear in your list. For the purpose of simplicity, consider the following characters as punctuation: . , ; ? ! - \n",
    "#### (a) Use a while loop. \n",
    "#### (b) Use a for loop."
   ]
  },
  {
   "cell_type": "code",
   "execution_count": 47,
   "metadata": {},
   "outputs": [
    {
     "name": "stdout",
     "output_type": "stream",
     "text": [
      "Answer to Part A: \n",
      "['M', 'o', 'n', 't', 'c', 'l', 'a', 'i', 'r', 'S', 'e', 'U', 'v', 's', 'y']\n",
      " \n",
      "Answer to Part B: \n",
      "['M', 'o', 'n', 't', 'c', 'l', 'a', 'i', 'r', 'S', 'e', 'U', 'v', 's', 'y']\n"
     ]
    }
   ],
   "source": [
    "sentence = \"Montclair.? State,; University!\"\n",
    "forbidden= \".,;?!\" \n",
    "\n",
    "#Answer to Part A\n",
    "newSentence = []\n",
    "i= 0 \n",
    "while i < len(sentence):\n",
    "    if sentence[i].isalpha() and sentence[i] not in newSentence and sentence[i] not in forbidden:\n",
    "        newSentence.append(sentence[i])\n",
    "    i+=1\n",
    "print(\"Answer to Part A: \")\n",
    "print(newSentence)\n",
    "print(\" \")\n",
    "\n",
    "#Answer to Part B\n",
    "newSentence2 = []\n",
    "for j in sentence:\n",
    "    if j.isalpha() and j not in newSentence2 and j not in forbidden:\n",
    "        newSentence2.append(j)\n",
    "print(\"Answer to Part B: \")\n",
    "print(newSentence2)"
   ]
  },
  {
   "cell_type": "markdown",
   "metadata": {},
   "source": [
    "#### Question 32: Sort vs. Sorted:\n",
    "#### (a) What is the diference between sort and sorted?\n",
    "#### (b) Which built-in data types of Python can use each?\n",
    "\n",
    "##### Answer to A: The difference between sort and sorted is the way they sort out the list. For exmapled the sorted method will sort a list in an ascending or descending order, whether numerically or alphabetically. On the other hand the sort method will sort a list changing its orginial sequence yet returns nothing. The sorted method does not change the orginal sequence of the list\n",
    "\n",
    "##### Answer to B: The sort method only supports the lists data type, where as the sorted method supports lists, tuples, and dictionary data types\n"
   ]
  },
  {
   "cell_type": "markdown",
   "metadata": {},
   "source": [
    "#### Question 34: Given a list [4,8,9,6,5,4,8,7,8] and using the len and sum functions, determine the average value of the integers in the list."
   ]
  },
  {
   "cell_type": "code",
   "execution_count": 46,
   "metadata": {},
   "outputs": [
    {
     "name": "stdout",
     "output_type": "stream",
     "text": [
      "The average is: 6.555555555555555\n"
     ]
    }
   ],
   "source": [
    "list = [4,8,9,6,5,4,8,7,8] \n",
    "average = 0\n",
    "average = sum(list)\n",
    "average /= len(list)\n",
    "print(\"The average is:\", average)"
   ]
  }
 ],
 "metadata": {
  "kernelspec": {
   "display_name": "Python 3.9.12 ('base')",
   "language": "python",
   "name": "python3"
  },
  "language_info": {
   "codemirror_mode": {
    "name": "ipython",
    "version": 3
   },
   "file_extension": ".py",
   "mimetype": "text/x-python",
   "name": "python",
   "nbconvert_exporter": "python",
   "pygments_lexer": "ipython3",
   "version": "3.9.12"
  },
  "orig_nbformat": 4,
  "vscode": {
   "interpreter": {
    "hash": "3280fcae50a8d10be8bd13b00d58c77fdf96ae9eea95e48d9bb6df2407a684ed"
   }
  }
 },
 "nbformat": 4,
 "nbformat_minor": 2
}
