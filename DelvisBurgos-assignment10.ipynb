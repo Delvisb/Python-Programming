{
 "cells": [
  {
   "cell_type": "markdown",
   "metadata": {},
   "source": [
    "##### Delvis Burgos\n",
    "##### CSIT505_01 \n",
    "##### M5 Assignment 10\n",
    "##### Question 2, 11, 13"
   ]
  },
  {
   "cell_type": "markdown",
   "metadata": {},
   "source": [
    "#### 2. Write a Shopping Cart class to implement a shopping cart that you often find on websites where you could purchase some goods. Think about what things you could store in a cart and also what operations you could perform on the cart. To simplify matters, you could consider the website to be an electronics e-store that has goods like flat-panel TVs, boomboxes, iPods, camcorders, and so on."
   ]
  },
  {
   "cell_type": "code",
   "execution_count": 82,
   "metadata": {},
   "outputs": [
    {
     "name": "stdout",
     "output_type": "stream",
     "text": [
      "Adding products to cart: \n",
      "You added flat-panel TV to your chart\n",
      "You added boombox to your chart\n",
      "You added iPod to your chart\n",
      "You added camcorder to your chart\n",
      " \n",
      "Printing the cart and its total:\n",
      "Product: flat-panel TV - Price: $300\n",
      "Product: boombox - Price: $100\n",
      "Product: iPod - Price: $150\n",
      "Product: camcorder - Price: $50\n",
      "The total amount is: $ 600\n",
      " \n",
      "After clearing the cart: \n",
      "The total amount is: $ 0\n"
     ]
    }
   ],
   "source": [
    "class Product:\n",
    "    def __init__(self, name, price):\n",
    "        self.name = name \n",
    "        self.price = price\n",
    "\n",
    "class ShoppingCart:\n",
    "    def __init__(self, cart =[]):\n",
    "        self.cart = cart\n",
    "       \n",
    "    def addProduct(self, product):\n",
    "        print('You added', product.name, \"to your chart\")\n",
    "        self.cart.append(product)\n",
    "    \n",
    "    def clearCart(self):\n",
    "        self.cart.clear()\n",
    "            \n",
    "    def getTotal(self): \n",
    "        total = 0\n",
    "        for i in self.cart:\n",
    "            total += i.price\n",
    "        print(\"The total amount is: $\", total)\n",
    "    \n",
    "\n",
    "    def viewCart(self):\n",
    "        for i in self.cart:\n",
    "            print(f'Product: {i.name} - Price: ${i.price}' )  \n",
    "\n",
    "if __name__ == \"__main__\":\n",
    "    product1 = Product('flat-panel TV', 300)\n",
    "    product2 = Product('boombox', 100)\n",
    "    product3 = Product('iPod', 150)\n",
    "    product4 = Product('camcorder', 50)\n",
    "    test = ShoppingCart()\n",
    "    print(\"Adding products to cart: \")\n",
    "    test.addProduct(product1) \n",
    "    test.addProduct(product2) \n",
    "    test.addProduct(product3) \n",
    "    test.addProduct(product4) \n",
    "    print(\" \")\n",
    "    print(\"Printing the cart and its total:\")\n",
    "    test.viewCart()\n",
    "    test.getTotal() \n",
    "    print(\" \")\n",
    "    print(\"After clearing the cart: \")\n",
    "    test.clearCart() \n",
    "    test.viewCart()\n",
    "    test.getTotal() \n"
   ]
  },
  {
   "cell_type": "markdown",
   "metadata": {},
   "source": [
    "#### 11. Design a class called Sentence that has a constructor that takes a string representing the sentence as input. The class should have the following methods:\n",
    "#### - get first word\n",
    "#### - get all words\n",
    "#### - replace(index, new word)\n",
    "#### —Change a word at a particular index to “new_word”.For example, if sentence is “I’m going back.” and set word at index(2, \"home\"), then sentence becomes “I’m going home.”"
   ]
  },
  {
   "cell_type": "code",
   "execution_count": 83,
   "metadata": {},
   "outputs": [
    {
     "name": "stdout",
     "output_type": "stream",
     "text": [
      "First word in the sentence: \n",
      "I'm\n",
      "All words in the sentence: \n",
      "[\"I'm\", 'going', 'back']\n",
      "Sentence before new word: \n",
      "I'm going back\n",
      "Sentence after new word:\n",
      "I'm going home\n"
     ]
    }
   ],
   "source": [
    "class Sentence:\n",
    "    def __init__(self, sentence):\n",
    "        self.string = sentence  \n",
    "    \n",
    "    def getFirstWord(self):\n",
    "        self.firstWord = self.string.split(' ')[0]\n",
    "        print(self.firstWord)\n",
    "\n",
    "    def getAllWords(self):\n",
    "        self.allWords= self.string.split() \n",
    "        print(self.allWords)\n",
    "\n",
    "    def replaceWord(self, index, new_word):\n",
    "        self.allWords[index] = new_word     \n",
    "        self.string = \" \".join(self.allWords)\n",
    "        print(self.string)\n",
    "\n",
    "if __name__ == \"__main__\":\n",
    "    test = input(\"Enter your sentence:\")\n",
    "    sen = Sentence(test)\n",
    "    index = int(input(\"Enter index:\"))\n",
    "    new_word = input(\"Enter Word:\")\n",
    "    print(\"First word in the sentence: \")\n",
    "    sen.getFirstWord()\n",
    "    print(\"All words in the sentence: \")\n",
    "    sen.getAllWords()\n",
    "    print(\"Sentence before new word: \")\n",
    "    print(test)\n",
    "    print(\"Sentence after new word:\")\n",
    "    sen.replaceWord(index, new_word)\n",
    "\n"
   ]
  },
  {
   "cell_type": "markdown",
   "metadata": {},
   "source": [
    "#### 13. Create a class for a bank account with attributes: user’s name, password, and account balance. The users account balance will default to $0 if no inital value is provided. In-clude three methods: withdraw, deposit, and print account info and balance. All meth-ods must require the correct password and print an error message if the password is incorrect."
   ]
  },
  {
   "cell_type": "code",
   "execution_count": 86,
   "metadata": {},
   "outputs": [
    {
     "name": "stdout",
     "output_type": "stream",
     "text": [
      "\n",
      "You've withdrew 100\n",
      "Balance for account number: 123 is now: $ 9900\n",
      "\n",
      "You've despoited 10000\n",
      "Balance for account number: 123 is now: $ 19900\n",
      "\n",
      "Account Info and Balance\n",
      "Welcome User: Delvisb\n",
      "Password: Delvis!\n",
      "Current Balance: $ 19900\n"
     ]
    }
   ],
   "source": [
    "class Account:\n",
    "    def __init__(self, accountNum, username, password, balance=0):\n",
    "        self.accountNum = accountNum\n",
    "        self.username = username\n",
    "        self.password = password\n",
    "        self.balance = balance\n",
    "\n",
    "    def withdraw(self):\n",
    "        inputPassword = input(\"Please enter your password: \")\n",
    "        if inputPassword == self.password:\n",
    "            withdrawalAmount = int(input(\"How much would you like to withdraw: \"))\n",
    "            self.balance -= withdrawalAmount\n",
    "            print(\"\")\n",
    "            print(\"You've withdrew\", withdrawalAmount)\n",
    "            print(\"Balance for account number:\", self.accountNum, \"is now: $\", self.balance )\n",
    "        else:\n",
    "            print(\"You've entered\",inputPassword,\"which is incorrect\")\n",
    "\n",
    "    def deposit(self):\n",
    "        inputPassword = input(\"Please enter your password: \")\n",
    "        if inputPassword == self.password:\n",
    "            depositAmount = int(input(\"How much would you like to deposit: \"))\n",
    "            self.balance += depositAmount\n",
    "            print(\"\")\n",
    "            print(\"You've despoited\", depositAmount)\n",
    "            print(\"Balance for account number:\", self.accountNum, \"is now: $\", self.balance )\n",
    "        else:\n",
    "            print(\"You've entered\", inputPassword ,\"which is incorrect\")\n",
    "\n",
    "    def print(self):\n",
    "        inputPassword = input(\"Please enter your password: \")\n",
    "        if inputPassword == self.password:\n",
    "            print(\"\")\n",
    "            print(\"Account Info and Balance\")\n",
    "            print(\"Welcome User:\", self.username)\n",
    "            print(\"Password:\", self.password)\n",
    "            print(\"Current Balance: $\", self.balance)\n",
    "        else:\n",
    "            print(\"You've entered\",inputPassword,\"which is incorrect\")\n",
    "\n",
    "if __name__ == \"__main__\":\n",
    "    test = Account(\"123\", \"Delvisb\", \"Delvis!\", 10000)\n",
    "    test.withdraw()\n",
    "    test.deposit()\n",
    "    test.print()"
   ]
  }
 ],
 "metadata": {
  "kernelspec": {
   "display_name": "Python 3.9.12 ('base')",
   "language": "python",
   "name": "python3"
  },
  "language_info": {
   "codemirror_mode": {
    "name": "ipython",
    "version": 3
   },
   "file_extension": ".py",
   "mimetype": "text/x-python",
   "name": "python",
   "nbconvert_exporter": "python",
   "pygments_lexer": "ipython3",
   "version": "3.9.12"
  },
  "orig_nbformat": 4,
  "vscode": {
   "interpreter": {
    "hash": "3280fcae50a8d10be8bd13b00d58c77fdf96ae9eea95e48d9bb6df2407a684ed"
   }
  }
 },
 "nbformat": 4,
 "nbformat_minor": 2
}
