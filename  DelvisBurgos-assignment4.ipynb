{
 "cells": [
  {
   "cell_type": "markdown",
   "metadata": {},
   "source": [
    "Delvis Burgos\n",
    "CSIT 505_01\n",
    "M1: Assignment #4\n",
    "\n",
    "Coding Exercise (p.151 to p.157)\n",
    "Question 7, 9, 12, 14, 15, 24, 35"
   ]
  },
  {
   "cell_type": "markdown",
   "metadata": {},
   "source": [
    "7. Consider the Python function range(a,b). Label these statements as True or False.\n",
    "- Value “a” is included in the range.\n",
    "- Value “b” is included in the range.\n",
    "\n",
    "ANSWER:\n",
    "- Value “a” is included in the range. ANSWER: True\n",
    "- Value “b” is included in the range. ANSWER: False, because it will loop to one decrement of b but not B. Example: if b was 5, it will loop till 4"
   ]
  },
  {
   "cell_type": "markdown",
   "metadata": {},
   "source": [
    "9. What is the diference in the logic of the following two sets of code:\n",
    "(a) if BooleanA:\n",
    "        SuiteA\n",
    "    if BooleanB:\n",
    "        SuiteB\n",
    "(b) if BooleanA:\n",
    "        SuiteA\n",
    "    elif BooleanB:\n",
    "        SuiteB\n",
    "\n",
    "ANSWER: A is logically different because two \"if\" conditions will both get excecuted, whereas in B if BooleanA returns as true then the else if condition will not be excecuted "
   ]
  },
  {
   "cell_type": "markdown",
   "metadata": {},
   "source": [
    "12. Write a program that counts the number of odd numbers, even numbers, and squares from 2 to 25 (inclusive)."
   ]
  },
  {
   "cell_type": "code",
   "execution_count": 22,
   "metadata": {},
   "outputs": [
    {
     "name": "stdout",
     "output_type": "stream",
     "text": [
      "Number of even numbers:  12\n",
      "Number of odd numbers:  12\n",
      "Number of squares:  4\n"
     ]
    }
   ],
   "source": [
    "even_numbers = 0 \n",
    "odd_numbers = 0\n",
    "square_numbers = 0 \n",
    "for i in range(2, 26):\n",
    "    if i % 2 == 0:\n",
    "        even_numbers +=1\n",
    "    else: \n",
    "        odd_numbers += 1\n",
    "    if int(i ** 0.5)**2 == i:\n",
    "        square_numbers +=1\n",
    "print(\"Number of even numbers: \", even_numbers)\n",
    "print(\"Number of odd numbers: \", odd_numbers)\n",
    "print(\"Number of squares: \", square_numbers)"
   ]
  },
  {
   "cell_type": "markdown",
   "metadata": {},
   "source": [
    "14. Rewrite this following “for” loop as a “while” loop:\n",
    "for i in range(0, 17):\n",
    "    if i % 2 == 0:\n",
    "        print(i)"
   ]
  },
  {
   "cell_type": "code",
   "execution_count": 27,
   "metadata": {},
   "outputs": [
    {
     "name": "stdout",
     "output_type": "stream",
     "text": [
      "0\n",
      "2\n",
      "4\n",
      "6\n",
      "8\n",
      "10\n",
      "12\n",
      "14\n",
      "16\n"
     ]
    }
   ],
   "source": [
    "i = 0\n",
    "while(i != 17):\n",
    "    if(i % 2 == 0):\n",
    "        print(i)\n",
    "    i+=1"
   ]
  },
  {
   "cell_type": "markdown",
   "metadata": {},
   "source": [
    "15. Simplify the following code so that it does not use any breaks or continue statements, yet the logic is equivalent.\n",
    "\n",
    "counter = 0\n",
    "while True:\n",
    "    if counter >= 100:\n",
    "        break\n",
    "    elif counter % 2 == 0:\n",
    "        counter += 1\n",
    "        continue\n",
    "    else:\n",
    "        counter *= 2;\n",
    "        continue"
   ]
  },
  {
   "cell_type": "code",
   "execution_count": 40,
   "metadata": {},
   "outputs": [],
   "source": [
    "#ANSWER:\n",
    "\n",
    "counter = 0\n",
    "while(counter <= 100):\n",
    "    if counter % 2 == 0:\n",
    "        counter += 1\n",
    "    else:\n",
    "        counter *= 2"
   ]
  },
  {
   "cell_type": "markdown",
   "metadata": {},
   "source": [
    "24. Here is an example of a while loop. There is an error; can you find the error in the while loop? Try to figure out what could be wrong by thinking through the while loop. Referring to the flow-chart figures in the chapter should help. Check to see if you are right by using Python!\n",
    "\n",
    "sentence= \"that car was really fast\"\n",
    "i=1\n",
    "while i>0:\n",
    "    for character in sentence:\n",
    "        if character == \"t\":\n",
    "            print(\"found a 't' in sentence\")\n",
    "        else:\n",
    "            print(\"maybe the next character?\")\n",
    "\n",
    "ANSWER: The problem is i equals 1 and the while-loop loops while i is greated than 0. Considering there is no decrement of i, regardless of the if-else condition, this will loop will never end. A possibly solution would be to decrement i when the index finds the character necessary (in this case \"t\")"
   ]
  },
  {
   "cell_type": "markdown",
   "metadata": {},
   "source": [
    "35. Write a program that continually prompts for positive integers and stops when the sum of numbers entered exceeds 1000. Stop early if a negative integer is entered."
   ]
  },
  {
   "cell_type": "code",
   "execution_count": null,
   "metadata": {},
   "outputs": [],
   "source": [
    "sum = 0 \n",
    "x = 1 \n",
    "while(x >0 and sum<1000):\n",
    "    x = int(input(\"Enter positive integers only: \"))\n",
    "    sum += x\t\n",
    "print(\"The sum equals: \", sum)"
   ]
  }
 ],
 "metadata": {
  "kernelspec": {
   "display_name": "Python 3.9.12 ('base')",
   "language": "python",
   "name": "python3"
  },
  "language_info": {
   "codemirror_mode": {
    "name": "ipython",
    "version": 3
   },
   "file_extension": ".py",
   "mimetype": "text/x-python",
   "name": "python",
   "nbconvert_exporter": "python",
   "pygments_lexer": "ipython3",
   "version": "3.9.12"
  },
  "orig_nbformat": 4,
  "vscode": {
   "interpreter": {
    "hash": "3280fcae50a8d10be8bd13b00d58c77fdf96ae9eea95e48d9bb6df2407a684ed"
   }
  }
 },
 "nbformat": 4,
 "nbformat_minor": 2
}
