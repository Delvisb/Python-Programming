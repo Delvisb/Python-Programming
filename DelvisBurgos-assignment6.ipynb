{
 "cells": [
  {
   "cell_type": "markdown",
   "metadata": {},
   "source": [
    "### Delvis Burgos \n",
    "### CSIT 505_01\n",
    "### M2: Assignment 6 "
   ]
  },
  {
   "cell_type": "markdown",
   "metadata": {},
   "source": [
    "#### Chapter 5:"
   ]
  },
  {
   "cell_type": "markdown",
   "metadata": {},
   "source": [
    "##### Question 8: Write a function that takes in the final scores of two soccer teams as arguments and prints either who won the game or whether the game was tied. Refer to the teams as “Team1” or “Team2.” The function returns nothing."
   ]
  },
  {
   "cell_type": "code",
   "execution_count": 68,
   "metadata": {},
   "outputs": [
    {
     "name": "stdout",
     "output_type": "stream",
     "text": [
      "It was a tie\n"
     ]
    }
   ],
   "source": [
    "Team1= int(input(\"Enter Team1's score: \"))\n",
    "Team2= int(input(\"Enter Team2's score: \"))\n",
    "\n",
    "def findWinner(Team1, Team2):\n",
    "    if Team1 > Team2:\n",
    "        print(\"Team1 Won\")\n",
    "    elif Team1 == Team2:\n",
    "        print(\"It was a tie\")\n",
    "    else: \n",
    "        print(\"Team2 Won\")\n",
    "\n",
    "findWinner(Team1, Team2)\n",
    "\n"
   ]
  },
  {
   "cell_type": "markdown",
   "metadata": {},
   "source": [
    "##### Question 9: Write a function that takes as input an English sentence (a string) and prints the total number of vowels and the total number of consonants in the sentence. The function re-turns nothing. Note that the sentence could have special characters such as dots, dashes, and so on."
   ]
  },
  {
   "cell_type": "code",
   "execution_count": 69,
   "metadata": {},
   "outputs": [
    {
     "name": "stdout",
     "output_type": "stream",
     "text": [
      "dlefjirfn3rpf contains 2 vowels and 10 consonants\n"
     ]
    }
   ],
   "source": [
    "def validator(sentence):\n",
    "    vowels = [\"a\", \"e\", \"i\", \"o\", \"u\"]\n",
    "    sentenceLower = sentence.lower()\n",
    "    vowelCount = 0\n",
    "    consonantCount = 0 \n",
    "    for i in sentenceLower:\n",
    "        if(i in vowels):\n",
    "            vowelCount +=1\n",
    "        elif i not in vowels and i.isalpha():\n",
    "            consonantCount +=1\n",
    "    \n",
    "    print(sentence, \"contains\" , vowelCount ,\"vowels and\", consonantCount ,\"consonants\")\n",
    "\n",
    "sentence = input(\"Enter an English Sentence: \")\n",
    "validator(sentence)\n"
   ]
  },
  {
   "cell_type": "markdown",
   "metadata": {},
   "source": [
    "##### Question 11: Suppose you are purchasing something online on the Internet. At the website, you get a 10% discount if you are a member. Additionally, you are also getting a discount of 5% on the item because its Father’s Day. Write a function that takes as input the cost of the item that you are purchasing and a Boolean variable indicating whether you are a member (or not), applies the discounts appropriately, and returns the final discounted value of the item. Note: The cost of the item need not be an integer."
   ]
  },
  {
   "cell_type": "code",
   "execution_count": 71,
   "metadata": {},
   "outputs": [
    {
     "name": "stdout",
     "output_type": "stream",
     "text": [
      "Your final cost:  9.5\n"
     ]
    }
   ],
   "source": [
    "def membershipDiscount(totalCost, memberStatus): \n",
    "    if memberStatus == \"yes\":\n",
    "        return totalCost - (totalCost * 0.10)\n",
    "    else:\n",
    "        return totalCost\n",
    "\n",
    "def fathersDayDiscount(membershipCost):\n",
    "    return membershipCost - (membershipCost * 0.05)\n",
    "\n",
    "totalCost = float(input(\"Enter the total amount: \"))\n",
    "memberStatus = input(\"Are you a member?(yes/no): \" )\n",
    "\n",
    "membershipCost = membershipDiscount(totalCost, memberStatus)\n",
    "finalCost = fathersDayDiscount(membershipCost)\n",
    "print(\"Your final cost: \", finalCost)\n",
    "\n",
    "\n",
    "\n",
    "\n",
    "\n"
   ]
  },
  {
   "cell_type": "markdown",
   "metadata": {},
   "source": [
    "##### Question 12: A leap year in the Gregorian calendar system is a year that’s divisible by 4 but not by 100, unless it is also divisible by 400. For example, 1896, 1904,and 2000 were leap years but 1900 was not. Write a function that takes in a year as input and prints whether it’s a leap year (or not)."
   ]
  },
  {
   "cell_type": "code",
   "execution_count": null,
   "metadata": {},
   "outputs": [
    {
     "name": "stdout",
     "output_type": "stream",
     "text": [
      "Yes, 2000 is a leap year.\n"
     ]
    }
   ],
   "source": [
    "def leapYearCheck(year):\n",
    "    if(year % 4 == 0 and year % 100 != 0) or (year % 400 == 0):\n",
    "        print(\"Yes,\",year,\"is a leap year.\")\n",
    "    else:\n",
    "        print(\"No,\",year,\"is not a leap year.\")\n",
    "        \n",
    "year = int(input(\"Enter the year: \"))\n",
    "leapYearCheck(year)\n"
   ]
  },
  {
   "cell_type": "markdown",
   "metadata": {},
   "source": [
    "##### Question 15a: Chat: (a) In certain chat programs or messaging applications, there is a limit on the number of characters that you can send in a message. Write a function that takes as input the message (a string) and checks whether the number of characters is less than 160 (or not). If the length of the message is less than 160, the message should be returned. If the length of the message is greater than 160, a string consisting of only the first 160 characters should be returned."
   ]
  },
  {
   "cell_type": "code",
   "execution_count": null,
   "metadata": {},
   "outputs": [
    {
     "name": "stdout",
     "output_type": "stream",
     "text": [
      "Delvis\n"
     ]
    }
   ],
   "source": [
    "def messageValidator(message):\n",
    "    if(len(message) <= 160):\n",
    "        return message \n",
    "    else:\n",
    "        return message[:160] \n",
    "\n",
    "message = input(\"Enter your message: \")\n",
    "result = messageValidator(message)\n",
    "print(result)"
   ]
  },
  {
   "cell_type": "markdown",
   "metadata": {},
   "source": [
    "#### Chapter 6:"
   ]
  },
  {
   "cell_type": "markdown",
   "metadata": {},
   "source": [
    "##### Question 2:  In the exception example of Section 6.6.4 when error “(2) bad file name” occurred the user had to enter a line number before the error occurred. Rewrite the code so that if a bad file name is entered, the error will be handled before a line number is requested."
   ]
  },
  {
   "cell_type": "code",
   "execution_count": null,
   "metadata": {},
   "outputs": [
    {
     "name": "stdout",
     "output_type": "stream",
     "text": [
      "The file Delvis.txt doesn't exist.\n",
      "End of the program\n"
     ]
    }
   ],
   "source": [
    "file_str = input(\"Open what file:\")\n",
    "\n",
    "try:\n",
    "    input_file = open(file_str)\n",
    "    find_line_str = input(\"Which line (integer):\")\n",
    "    find_line_int = int(find_line_str)\n",
    "    line_count_int = 1\n",
    "    for line_str in input_file:\n",
    "        if line_count_int == find_line_int:\n",
    "            print(\"Line {} of file {} is {}\".format(find_line_int, file_str,line_str))\n",
    "            break\n",
    "        line_count_int  += 1\n",
    "    else:\n",
    "        print(\"Line {} of file {} not found\".format(find_line_int, file_str))   \n",
    "        input_file.close()\n",
    "except FileNotFoundError:\n",
    "    print(\"The file\",file_str,\"doesn't exist.\")\n",
    "except ValueError:\n",
    "    print(\"Line\",find_line_int,\"isn't a legal line number.\")\n",
    "\n",
    "print(\"End of the program\")"
   ]
  },
  {
   "cell_type": "markdown",
   "metadata": {},
   "source": [
    "#### BONUS QUESTION 4. In the exception example of Section 6.6.4 rewrite the code so that if error “(3) bad line number (string)” occurs the program keeps asking for input until the user gets it right."
   ]
  },
  {
   "cell_type": "code",
   "execution_count": null,
   "metadata": {},
   "outputs": [],
   "source": [
    "file_str = input(\"Open what file:\")\n",
    "notFoundYet = True\n",
    "while(notFoundYet):\n",
    "    try:\n",
    "        input_file = open(file_str)\n",
    "        find_line_str = input(\"Which line (integer):\")\n",
    "        find_line_int = int(find_line_str)\n",
    "        line_count_int = 1\n",
    "        for line_str in input_file:\n",
    "            if line_count_int == find_line_int:\n",
    "                print(\"Line {} of file {} is {}\".format(find_line_int, file_str,line_str))\n",
    "                notFoundYet = False\n",
    "                break\n",
    "            line_count_int  += 1\n",
    "        else:\n",
    "            print(\"Line {} of file {} not found\".format(find_line_int, file_str))   \n",
    "            input_file.close()\n",
    "    except FileNotFoundError:\n",
    "        print(\"The file\",file_str,\"doesn't exist.\")\n",
    "    except ValueError:\n",
    "        print(\"Line\",find_line_int,\"isn't a legal line number.\")\n",
    "\n",
    "print(\"End of the program\")"
   ]
  }
 ],
 "metadata": {
  "kernelspec": {
   "display_name": "Python 3.9.12 ('base')",
   "language": "python",
   "name": "python3"
  },
  "language_info": {
   "codemirror_mode": {
    "name": "ipython",
    "version": 3
   },
   "file_extension": ".py",
   "mimetype": "text/x-python",
   "name": "python",
   "nbconvert_exporter": "python",
   "pygments_lexer": "ipython3",
   "version": "3.9.12"
  },
  "orig_nbformat": 4,
  "vscode": {
   "interpreter": {
    "hash": "3280fcae50a8d10be8bd13b00d58c77fdf96ae9eea95e48d9bb6df2407a684ed"
   }
  }
 },
 "nbformat": 4,
 "nbformat_minor": 2
}
