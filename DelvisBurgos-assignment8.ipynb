{
 "cells": [
  {
   "cell_type": "markdown",
   "metadata": {},
   "source": [
    "### Delvis Burgos  \n",
    "### CSIT505_01 \n",
    "### M3: Assignmnet 8     \n",
    "### Question 9, 11, 17, 39, 41"
   ]
  },
  {
   "cell_type": "markdown",
   "metadata": {},
   "source": [
    "##### Question 9. Given a = [1,2,3] and b = [1,2,3], what is the result of:\n",
    "##### (a) a == b ANSWER: Returns true because the values of each object are the same \n",
    "##### (b) a is b ANSWER: Returns false because \"is\" compares based off indentity. Since they are two different objects, despite having the same values, it is false"
   ]
  },
  {
   "cell_type": "markdown",
   "metadata": {},
   "source": [
    "##### Question 11: Given x = [1,2,3], write the Python code to:\n",
    "##### (a) create a list y such that changing x also changes y.\n",
    "##### (b) create a list y such that changing x does not change y."
   ]
  },
  {
   "cell_type": "code",
   "execution_count": 12,
   "metadata": {},
   "outputs": [
    {
     "name": "stdout",
     "output_type": "stream",
     "text": [
      "Intial List:\n",
      "x: [1, 2, 3]\n",
      "y: [1, 2, 3]\n",
      "Final List:\n",
      "x: [1, 2, 3, 100]\n",
      "y: [1, 2, 3, 100]\n"
     ]
    }
   ],
   "source": [
    "# Part A:\n",
    "x = [1,2,3]\n",
    "y = x\n",
    "print(\"Intial List:\")\n",
    "print(\"x:\", x)\n",
    "print(\"y:\", y)\n",
    "y.append(100)\n",
    "print(\"Final List:\")\n",
    "print('x:', x)\n",
    "print('y:', y)"
   ]
  },
  {
   "cell_type": "code",
   "execution_count": 13,
   "metadata": {},
   "outputs": [
    {
     "name": "stdout",
     "output_type": "stream",
     "text": [
      "Intial List:\n",
      "x: [1, 2, 3]\n",
      "y: [1, 2, 3]\n",
      "Final List:\n",
      "x: [1, 2, 3]\n",
      "y: [100, 2, 3]\n"
     ]
    }
   ],
   "source": [
    "# Part B:\n",
    "x = [1,2,3]\n",
    "y = x.copy()\n",
    "print(\"Intial List:\")\n",
    "print(\"x:\", x)\n",
    "print(\"y:\", y)\n",
    "y[0]=100\n",
    "print(\"Final List:\")\n",
    "print('x:', x)\n",
    "print('y:', y)"
   ]
  },
  {
   "cell_type": "markdown",
   "metadata": {},
   "source": [
    "##### Question 17: What diferentiates a tuple from a list? Be specific.\n",
    "##### ANSWER: For starters after declaration of each, a list can modified, where as tuples cannot be. A list can be seen as dyanmic, where tupes have static characteristics. Next, in terms of memory management, a tuple takes up less space since their size is smaller. Since tuple take up less memory than a list, tuples are better in turns of performance. "
   ]
  },
  {
   "cell_type": "code",
   "execution_count": 15,
   "metadata": {},
   "outputs": [
    {
     "name": "stdout",
     "output_type": "stream",
     "text": [
      "Size of lists and tuples \n",
      "Size of my list: 120\n",
      "Size of my tuple: 80\n",
      "Modification of lists and tuples \n",
      "My list before modification:  [0, 1, 2, 3, 4]\n",
      "My list after modification: [5, 1, 2, 3, 4]\n",
      "My tuple before modification  (0, 1, 2, 3, 4)\n"
     ]
    },
    {
     "ename": "TypeError",
     "evalue": "'tuple' object does not support item assignment",
     "output_type": "error",
     "traceback": [
      "\u001b[0;31m---------------------------------------------------------------------------\u001b[0m",
      "\u001b[0;31mTypeError\u001b[0m                                 Traceback (most recent call last)",
      "\u001b[1;32mUntitled-1.ipynb Cell 7\u001b[0m in \u001b[0;36m<cell line: 17>\u001b[0;34m()\u001b[0m\n\u001b[1;32m     <a href='vscode-notebook-cell:Untitled-1.ipynb?jupyter-notebook#X20sdW50aXRsZWQ%3D?line=12'>13</a>\u001b[0m \u001b[39mprint\u001b[39m(\u001b[39m\"\u001b[39m\u001b[39mMy list after modification:\u001b[39m\u001b[39m\"\u001b[39m, myList)\n\u001b[1;32m     <a href='vscode-notebook-cell:Untitled-1.ipynb?jupyter-notebook#X20sdW50aXRsZWQ%3D?line=14'>15</a>\u001b[0m \u001b[39mprint\u001b[39m(\u001b[39m\"\u001b[39m\u001b[39mMy tuple before modification \u001b[39m\u001b[39m\"\u001b[39m, myTuple)\n\u001b[0;32m---> <a href='vscode-notebook-cell:Untitled-1.ipynb?jupyter-notebook#X20sdW50aXRsZWQ%3D?line=16'>17</a>\u001b[0m myTuple[\u001b[39m0\u001b[39m] \u001b[39m=\u001b[39m \u001b[39m5\u001b[39m\n\u001b[1;32m     <a href='vscode-notebook-cell:Untitled-1.ipynb?jupyter-notebook#X20sdW50aXRsZWQ%3D?line=17'>18</a>\u001b[0m \u001b[39mprint\u001b[39m(\u001b[39m\"\u001b[39m\u001b[39mMy list after modification:\u001b[39m\u001b[39m\"\u001b[39m, myTuple)\n",
      "\u001b[0;31mTypeError\u001b[0m: 'tuple' object does not support item assignment"
     ]
    }
   ],
   "source": [
    "import sys\n",
    "print(\"Size of lists and tuples \")\n",
    "myList = [0, 1, 2, 3, 4]\n",
    "myTuple = (0, 1, 2, 3, 4)\n",
    "\n",
    "print(\"Size of my list:\", sys.getsizeof(myList))\n",
    "print(\"Size of my tuple:\", sys.getsizeof(myTuple))\n",
    "\n",
    "print(\"Modification of lists and tuples \")\n",
    "print(\"My list before modification: \", myList)\n",
    " \n",
    "myList[0] = 5\n",
    "print(\"My list after modification:\", myList)\n",
    "\n",
    "print(\"My tuple before modification \", myTuple)\n",
    "\n",
    "myTuple[0] = 5\n",
    "print(\"My list after modification:\", myTuple)\n"
   ]
  },
  {
   "cell_type": "markdown",
   "metadata": {},
   "source": [
    "##### Question 39: Given a list of integers L, use list comprehension to:\n",
    "##### (a) find the sum of the even integers in list L\n",
    "##### (b) find the sum of the odd integers in list L."
   ]
  },
  {
   "cell_type": "code",
   "execution_count": 28,
   "metadata": {},
   "outputs": [
    {
     "name": "stdout",
     "output_type": "stream",
     "text": [
      "Even number's sum:  30\n",
      "Odd number's sum:  25\n"
     ]
    }
   ],
   "source": [
    "L = [1, 2, 3, 4, 5, 6, 7, 8, 9, 10]\n",
    "evenSum = sum([i for i in L if i%2==0])\n",
    "oddSum = sum([i for i in L if i%2 !=0])\n",
    "print(\"Even number's sum: \", evenSum)\n",
    "print(\"Odd number's sum: \", oddSum)\n"
   ]
  },
  {
   "cell_type": "markdown",
   "metadata": {},
   "source": [
    "##### Question 41. Given x='January 1, 2000':\n",
    "##### (a) Using list comprehension, create a list of all the letters used in x.\n",
    "##### (b) In one line, add to your list comprehension so the resulting list is sorted."
   ]
  },
  {
   "cell_type": "code",
   "execution_count": 27,
   "metadata": {},
   "outputs": [
    {
     "name": "stdout",
     "output_type": "stream",
     "text": [
      "Answer to part A:\n",
      "All letters in X:\n",
      "['J', 'a', 'n', 'u', 'a', 'r', 'y', ' ', '1', ',', ' ', '2', '0', '0', '0']\n",
      "Answer to part B:\n",
      "All letters in X sorted:\n",
      "[' ', ' ', ',', '0', '0', '0', '1', '2', 'J', 'a', 'a', 'n', 'r', 'u', 'y']\n"
     ]
    }
   ],
   "source": [
    "x='January 1, 2000'\n",
    "#Part A\n",
    "letters = ([letter for letter in x])\n",
    "#Part B\n",
    "letters2 = ([letter for letter in sorted(x)])\n",
    "\n",
    "print(\"Answer to part A:\")\n",
    "print(\"All letters in X:\")\n",
    "print(letters)\n",
    "\n",
    "print(\"Answer to part B:\")\n",
    "print(\"All letters in X sorted:\")\n",
    "print(letters2)"
   ]
  }
 ],
 "metadata": {
  "kernelspec": {
   "display_name": "Python 3.9.12 ('base')",
   "language": "python",
   "name": "python3"
  },
  "language_info": {
   "codemirror_mode": {
    "name": "ipython",
    "version": 3
   },
   "file_extension": ".py",
   "mimetype": "text/x-python",
   "name": "python",
   "nbconvert_exporter": "python",
   "pygments_lexer": "ipython3",
   "version": "3.9.12"
  },
  "orig_nbformat": 4,
  "vscode": {
   "interpreter": {
    "hash": "3280fcae50a8d10be8bd13b00d58c77fdf96ae9eea95e48d9bb6df2407a684ed"
   }
  }
 },
 "nbformat": 4,
 "nbformat_minor": 2
}
