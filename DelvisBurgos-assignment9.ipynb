{
 "cells": [
  {
   "cell_type": "markdown",
   "metadata": {},
   "source": [
    "#### Delvis Burgos\n",
    "#### CSIT505_01\n",
    "#### M4: Assignment 9\n",
    "#### Question 4, 6, 15, 18a, 18b (18c is not required), 20"
   ]
  },
  {
   "cell_type": "markdown",
   "metadata": {},
   "source": [
    "#### 4. Given D = {'a':3, 'x':7, 'r':5}:\n",
    "#### (a) Write Python code that returns the value at key 'x'.\n",
    "#### (b) Write Python code that returns the key given value '7'."
   ]
  },
  {
   "cell_type": "code",
   "execution_count": 27,
   "metadata": {},
   "outputs": [
    {
     "name": "stdout",
     "output_type": "stream",
     "text": [
      "Part A\n",
      "7\n",
      "Part B\n",
      "x\n"
     ]
    }
   ],
   "source": [
    "D = {'a':3, 'x':7, 'r':5}\n",
    "\n",
    "def returnValue(i):\n",
    "    for key, value in D.items():\n",
    "        if i == key:\n",
    "            return value\n",
    "\n",
    "def returnKey(i):\n",
    "    for key, value in D.items():\n",
    "        if i == value:\n",
    "            return key\n",
    "\n",
    "print('Part A')\n",
    "print(returnValue('x'))\n",
    "print('Part B')\n",
    "print(returnKey(7))\n"
   ]
  },
  {
   "cell_type": "markdown",
   "metadata": {},
   "source": [
    "#### 6. If you had 2 lists, one of first names and one of last names [‘Jane’, ‘John’, ‘Jack’] and [‘Doe’, ‘Deer’, ‘Black’], use zip to create a dictionary with the keys as the first names and the values as the last names."
   ]
  },
  {
   "cell_type": "code",
   "execution_count": 34,
   "metadata": {},
   "outputs": [
    {
     "name": "stdout",
     "output_type": "stream",
     "text": [
      "{'Jane': 'Doe', 'John': 'Deer', 'Jack': 'Black'}\n"
     ]
    }
   ],
   "source": [
    "firstnames = ['Jane', 'John', 'Jack'] \n",
    "lastnames =  ['Doe', 'Deer', 'Black']\n",
    "\n",
    "names = dict(zip(firstnames, lastnames))\n",
    "print(names)"
   ]
  },
  {
   "cell_type": "markdown",
   "metadata": {},
   "source": [
    "####"
   ]
  },
  {
   "cell_type": "markdown",
   "metadata": {},
   "source": [
    "#### 15. Write a function that takes a person’s first and last names as input and\n",
    "#### (a) uses lists to return a list of the common letters in the first and last names (the inter-section).\n",
    "#### (b) uses sets to return a set that is the intersection of the characters in the first and last names.\n",
    "#### (c) uses sets to return the set that is the symmetric diference between the first and last names."
   ]
  },
  {
   "cell_type": "code",
   "execution_count": 62,
   "metadata": {},
   "outputs": [
    {
     "name": "stdout",
     "output_type": "stream",
     "text": [
      "Part A\n",
      "['s']\n",
      "Part B\n",
      "{'s'}\n",
      "Part C\n",
      "{'d', 'e', 'i', 'l', 'v'}\n"
     ]
    }
   ],
   "source": [
    "#Part A\n",
    "def names(fname, lname):\n",
    "    letters = []\n",
    "    for i in fname.lower():\n",
    "        if i in lname.lower() and i not in letters:\n",
    "            letters.append(i)\n",
    "    return letters\n",
    "#Part B\n",
    "def names2(fname, lname):\n",
    "    fset = set(fname.lower())\n",
    "    lset = set(lname.lower()) \n",
    "    intersection = fset.intersection(lset)\n",
    "    return intersection\n",
    "#Part C\n",
    "def names3(fname, lname):\n",
    "    fset = set(fname.lower())\n",
    "    lset = set(lname.lower()) \n",
    "    difference = fset.difference(lset)\n",
    "    return difference\n",
    "\n",
    "print('Part A')\n",
    "print(names('delvis', 'burgos'))\n",
    "print('Part B')\n",
    "print(names2('delvis', 'burgos'))\n",
    "print('Part C')\n",
    "print(names3('delvis', 'burgos'))\n",
    "\n",
    "\n"
   ]
  },
  {
   "cell_type": "markdown",
   "metadata": {},
   "source": [
    "#### 18. A book could be written by a single author or multiple authors. Consider the organization of a dictionary, for example, what should be used as the key in the dictionary?\n",
    "#### (a) What should the organization of the dictionary be, if we want to find the names of all the books written by a given author?\n",
    "#### (b) What should the organization of the dictionary be, if we want to find the names of all the authors of a given book?\n"
   ]
  },
  {
   "cell_type": "code",
   "execution_count": 84,
   "metadata": {},
   "outputs": [
    {
     "name": "stdout",
     "output_type": "stream",
     "text": [
      "Part A Example: \n",
      "['Book1', 'Book2', 'Book3']\n",
      "['Book4', 'Book5', 'Book6']\n",
      "Part B Example: \n",
      "['Delvis Burgos', 'John Doe', 'Burgos Delvis']\n",
      "['Delvis Burgos', 'John Doe']\n",
      "['Delvis Burgos']\n"
     ]
    }
   ],
   "source": [
    "\"\"\"\n",
    "Part A Answer: Being that there is a one to many relationship(One author to many books), \n",
    "it is best if we structure the dictionary with the author as a key and the books as values. \n",
    "For example below:\n",
    "\"\"\" \n",
    "Book_dictionary = {'Delvis Burgos': ['Book1', 'Book2', 'Book3'], 'John Doe' : ['Book4', 'Book5', 'Book6']}\n",
    "print('Part A Example: ')\n",
    "#To get all books from Delvis Burgos:\n",
    "print(Book_dictionary['Delvis Burgos'])\n",
    "#Or to get all books from John Doe:\n",
    "print(Book_dictionary['John Doe'])\n",
    "\"\"\"\n",
    "Part B Answer: In this case that there is a one to n relationship(One book to n(number) of authors), \n",
    "it is best if we structure the dictionary with the book as a key and the author(s) as values. \n",
    "For example below:\n",
    "\"\"\" \n",
    "\n",
    "Book_dictionary2 = {'Book1': ['Delvis Burgos', 'John Doe', 'Burgos Delvis'], 'Book2': ['Delvis Burgos', 'John Doe'] , 'Book3': ['Delvis Burgos'] }\n",
    "print('Part B Example: ')\n",
    "#To get all authors from Books 1-3\n",
    "print(Book_dictionary2['Book1'])\n",
    "print(Book_dictionary2['Book2'])\n",
    "print(Book_dictionary2['Book3'])\n",
    "\n",
    "\n"
   ]
  },
  {
   "cell_type": "markdown",
   "metadata": {},
   "source": [
    "#### 20. Write a function that takes a string as an argument and returns a dictionary whose keys are letters and values are counts of those letters in the string. Ignore case. "
   ]
  },
  {
   "cell_type": "code",
   "execution_count": 85,
   "metadata": {},
   "outputs": [
    {
     "name": "stdout",
     "output_type": "stream",
     "text": [
      "{'d': 1, 'e': 2, 'l': 1, 'v': 1, 'i': 5, 's': 3}\n"
     ]
    }
   ],
   "source": [
    "def dictionary(string):\n",
    "    dict = {}\n",
    "    for i in string.lower():\n",
    "        if i not in dict:\n",
    "            dict[i] = 1\n",
    "        else:\n",
    "            dict[i] = string.count(i)\n",
    "    return dict\n",
    "print(dictionary(\"Deelviiiiisss\"))"
   ]
  }
 ],
 "metadata": {
  "kernelspec": {
   "display_name": "Python 3.9.12 ('base')",
   "language": "python",
   "name": "python3"
  },
  "language_info": {
   "codemirror_mode": {
    "name": "ipython",
    "version": 3
   },
   "file_extension": ".py",
   "mimetype": "text/x-python",
   "name": "python",
   "nbconvert_exporter": "python",
   "pygments_lexer": "ipython3",
   "version": "3.9.12"
  },
  "orig_nbformat": 4,
  "vscode": {
   "interpreter": {
    "hash": "3280fcae50a8d10be8bd13b00d58c77fdf96ae9eea95e48d9bb6df2407a684ed"
   }
  }
 },
 "nbformat": 4,
 "nbformat_minor": 2
}
